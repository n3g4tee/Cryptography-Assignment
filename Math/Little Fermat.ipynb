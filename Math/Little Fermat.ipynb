{
 "cells": [
  {
   "cell_type": "code",
   "execution_count": null,
   "metadata": {},
   "outputs": [],
   "source": []
  },
  {
   "cell_type": "markdown",
   "metadata": {},
   "source": [
    "#### Problem find inverse element? \n",
    "    3*d ≡ 1 mod 13 , d=?\n",
    "<=> 3*d-1=k*13 -> 3*d / 13 = k*13+1 \n",
    "\n",
    "<=> 3*d-13*k = 1 (1)\n",
    "\n",
    "So... how do we find d and k or x and y ?\n",
    "a  | b | r\n",
    "\n",
    "13 | 3 | 1 | => 13 = 3*4 + 1\n",
    "\n",
    "3  | 1 | 0 | => 3 = 1*3 + 0\n",
    "\n",
    "    gcd(3,13)=1\n",
    "\n",
    "    => lcd (3,13) = 1*13*3\n",
    "\n",
    "    <=> 13*(1-3) - 3*(4-13) = 1\n",
    "\n",
    "    <=> -13*4 + 3*9 =1 \n",
    "\n",
    "\n",
    "#### Little Fermat\n",
    "    a^(p-1) ≡ 1 mod p\n",
    "#### Extened Euclid\n",
    "   (2) a*x+b*y=gcd(a,b)\n",
    "(1) and (2) matched\n"
   ]
  }
 ],
 "metadata": {
  "kernelspec": {
   "display_name": "base",
   "language": "python",
   "name": "python3"
  },
  "language_info": {
   "name": "python",
   "version": "3.11.7"
  }
 },
 "nbformat": 4,
 "nbformat_minor": 2
}
